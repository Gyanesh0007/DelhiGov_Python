{
 "cells": [
  {
   "cell_type": "markdown",
   "id": "contained-march",
   "metadata": {},
   "source": [
    "# Day 3"
   ]
  },
  {
   "cell_type": "markdown",
   "id": "turned-daily",
   "metadata": {},
   "source": [
    "###### Error Handeling"
   ]
  },
  {
   "cell_type": "markdown",
   "id": "potential-incident",
   "metadata": {},
   "source": [
    "- List"
   ]
  },
  {
   "cell_type": "markdown",
   "id": "working-secretary",
   "metadata": {},
   "source": [
    "- List\n",
    "    - Sublist\n",
    "    - sublist2"
   ]
  },
  {
   "cell_type": "markdown",
   "id": "human-spice",
   "metadata": {},
   "source": [
    "**Hello**"
   ]
  },
  {
   "cell_type": "markdown",
   "id": "iraqi-professional",
   "metadata": {},
   "source": [
    "- esc\n",
    "- m\n",
    "- shift+enter"
   ]
  },
  {
   "cell_type": "markdown",
   "id": "physical-gnome",
   "metadata": {},
   "source": [
    "*Go*"
   ]
  },
  {
   "cell_type": "markdown",
   "id": "native-chuck",
   "metadata": {},
   "source": [
    "[Rishabh](https://www.google.com/?client=safari)"
   ]
  },
  {
   "cell_type": "markdown",
   "id": "oriented-potential",
   "metadata": {},
   "source": [
    "[Facebook](https://www.facebook.com)"
   ]
  },
  {
   "cell_type": "markdown",
   "id": "perfect-kruger",
   "metadata": {},
   "source": [
    "<u>Underline</u>"
   ]
  },
  {
   "cell_type": "markdown",
   "id": "shared-praise",
   "metadata": {},
   "source": [
    "# Error Handeling"
   ]
  },
  {
   "cell_type": "code",
   "execution_count": null,
   "id": "answering-kazakhstan",
   "metadata": {},
   "outputs": [],
   "source": [
    "200 lines\n",
    "\n",
    "rsfgewg\n",
    "edfew\n",
    "fweew\n",
    "efew\n",
    "egew\n",
    "g\n",
    "evgew"
   ]
  },
  {
   "cell_type": "code",
   "execution_count": 5,
   "id": "latter-furniture",
   "metadata": {},
   "outputs": [
    {
     "name": "stdout",
     "output_type": "stream",
     "text": [
      "['ArithmeticError', 'AssertionError', 'AttributeError', 'BaseException', 'BlockingIOError', 'BrokenPipeError', 'BufferError', 'BytesWarning', 'ChildProcessError', 'ConnectionAbortedError', 'ConnectionError', 'ConnectionRefusedError', 'ConnectionResetError', 'DeprecationWarning', 'EOFError', 'Ellipsis', 'EnvironmentError', 'Exception', 'False', 'FileExistsError', 'FileNotFoundError', 'FloatingPointError', 'FutureWarning', 'GeneratorExit', 'IOError', 'ImportError', 'ImportWarning', 'IndentationError', 'IndexError', 'InterruptedError', 'IsADirectoryError', 'KeyError', 'KeyboardInterrupt', 'LookupError', 'MemoryError', 'ModuleNotFoundError', 'NameError', 'None', 'NotADirectoryError', 'NotImplemented', 'NotImplementedError', 'OSError', 'OverflowError', 'PendingDeprecationWarning', 'PermissionError', 'ProcessLookupError', 'RecursionError', 'ReferenceError', 'ResourceWarning', 'RuntimeError', 'RuntimeWarning', 'StopAsyncIteration', 'StopIteration', 'SyntaxError', 'SyntaxWarning', 'SystemError', 'SystemExit', 'TabError', 'TimeoutError', 'True', 'TypeError', 'UnboundLocalError', 'UnicodeDecodeError', 'UnicodeEncodeError', 'UnicodeError', 'UnicodeTranslateError', 'UnicodeWarning', 'UserWarning', 'ValueError', 'Warning', 'ZeroDivisionError', '__IPYTHON__', '__build_class__', '__debug__', '__doc__', '__import__', '__loader__', '__name__', '__package__', '__spec__', 'abs', 'all', 'any', 'ascii', 'bin', 'bool', 'breakpoint', 'bytearray', 'bytes', 'callable', 'chr', 'classmethod', 'compile', 'complex', 'copyright', 'credits', 'delattr', 'dict', 'dir', 'display', 'divmod', 'enumerate', 'eval', 'exec', 'filter', 'float', 'format', 'frozenset', 'get_ipython', 'getattr', 'globals', 'hasattr', 'hash', 'help', 'hex', 'id', 'input', 'int', 'isinstance', 'issubclass', 'iter', 'len', 'license', 'list', 'locals', 'map', 'max', 'memoryview', 'min', 'next', 'object', 'oct', 'open', 'ord', 'pow', 'print', 'property', 'range', 'repr', 'reversed', 'round', 'set', 'setattr', 'slice', 'sorted', 'staticmethod', 'str', 'sum', 'super', 'tuple', 'type', 'vars', 'zip']\n"
     ]
    }
   ],
   "source": [
    "print(dir(__builtins__))"
   ]
  },
  {
   "cell_type": "code",
   "execution_count": 6,
   "id": "rotary-leisure",
   "metadata": {},
   "outputs": [
    {
     "ename": "AttributeError",
     "evalue": "'tuple' object has no attribute 'append'",
     "output_type": "error",
     "traceback": [
      "\u001b[0;31m---------------------------------------------------------------------------\u001b[0m",
      "\u001b[0;31mAttributeError\u001b[0m                            Traceback (most recent call last)",
      "\u001b[0;32m<ipython-input-6-fe630387805f>\u001b[0m in \u001b[0;36m<module>\u001b[0;34m\u001b[0m\n\u001b[0;32m----> 1\u001b[0;31m \u001b[0;34m(\u001b[0m\u001b[0;36m1\u001b[0m\u001b[0;34m,\u001b[0m\u001b[0;36m2\u001b[0m\u001b[0;34m,\u001b[0m\u001b[0;36m3\u001b[0m\u001b[0;34m)\u001b[0m\u001b[0;34m.\u001b[0m\u001b[0mappend\u001b[0m\u001b[0;34m(\u001b[0m\u001b[0;36m2\u001b[0m\u001b[0;34m)\u001b[0m\u001b[0;34m\u001b[0m\u001b[0;34m\u001b[0m\u001b[0m\n\u001b[0m",
      "\u001b[0;31mAttributeError\u001b[0m: 'tuple' object has no attribute 'append'"
     ]
    }
   ],
   "source": [
    "(1,2,3).append(2)"
   ]
  },
  {
   "cell_type": "code",
   "execution_count": 7,
   "id": "junior-optimum",
   "metadata": {},
   "outputs": [
    {
     "ename": "ModuleNotFoundError",
     "evalue": "No module named 'jghvgjhvc'",
     "output_type": "error",
     "traceback": [
      "\u001b[0;31m---------------------------------------------------------------------------\u001b[0m",
      "\u001b[0;31mModuleNotFoundError\u001b[0m                       Traceback (most recent call last)",
      "\u001b[0;32m<ipython-input-7-a5df7a9ded38>\u001b[0m in \u001b[0;36m<module>\u001b[0;34m\u001b[0m\n\u001b[0;32m----> 1\u001b[0;31m \u001b[0;32mimport\u001b[0m \u001b[0mjghvgjhvc\u001b[0m\u001b[0;34m\u001b[0m\u001b[0;34m\u001b[0m\u001b[0m\n\u001b[0m",
      "\u001b[0;31mModuleNotFoundError\u001b[0m: No module named 'jghvgjhvc'"
     ]
    }
   ],
   "source": [
    "import jghvgjhvc"
   ]
  },
  {
   "cell_type": "code",
   "execution_count": 1,
   "id": "young-bleeding",
   "metadata": {},
   "outputs": [
    {
     "name": "stdout",
     "output_type": "stream",
     "text": [
      "Enter number1: 10\n",
      "Enter number2: 2\n",
      "Error in code\n",
      "Error: can only concatenate str (not \"int\") to str\n",
      "Very important code\n"
     ]
    }
   ],
   "source": [
    "n1 = int(input(\"Enter number1: \"))\n",
    "n2 = int(input(\"Enter number2: \"))\n",
    "\n",
    "try:\n",
    "    \"hello\"+ 6\n",
    "    print(n1/n2)\n",
    "    (1,2,3).append(2)\n",
    "    \n",
    "    print(\"Sucessfully executed\")\n",
    "    \n",
    "except ZeroDivisionError as e:\n",
    "    print(\"Dont give 0 as divisor\")\n",
    "    print(e)\n",
    "    \n",
    "except AttributeError as e:\n",
    "    print(\"Can't append to tuple\")\n",
    "    print(e)\n",
    "    \n",
    "except Exception as e: #alias\n",
    "    print(\"Error in code\")\n",
    "    print(\"Error:\",e)\n",
    "    \n",
    "print(\"Very important code\")"
   ]
  },
  {
   "cell_type": "code",
   "execution_count": null,
   "id": "bearing-multiple",
   "metadata": {},
   "outputs": [],
   "source": [
    "import input_output_library as iol\n",
    "iol.sum()"
   ]
  },
  {
   "cell_type": "code",
   "execution_count": 8,
   "id": "narrative-organizer",
   "metadata": {},
   "outputs": [
    {
     "name": "stdout",
     "output_type": "stream",
     "text": [
      "Enter your passwordsdvds\n",
      "PasswordInvalid\n",
      "Code run sucessfully\n"
     ]
    }
   ],
   "source": [
    "password = input(\"Enter your password\")\n",
    "\n",
    "try: \n",
    "    if len(password)< 8:\n",
    "        raise Exception(\"PasswordInvalid\")\n",
    "    print(\"password created\")\n",
    "except Exception as e:\n",
    "    print(e)\n",
    "print(\"Code run sucessfully\")"
   ]
  },
  {
   "cell_type": "markdown",
   "id": "computational-desktop",
   "metadata": {},
   "source": [
    "# File Handeling "
   ]
  },
  {
   "cell_type": "code",
   "execution_count": 10,
   "id": "durable-postage",
   "metadata": {},
   "outputs": [],
   "source": [
    "s = \"Please write me into file\""
   ]
  },
  {
   "cell_type": "code",
   "execution_count": 11,
   "id": "informational-plaintiff",
   "metadata": {},
   "outputs": [
    {
     "name": "stdout",
     "output_type": "stream",
     "text": [
      "Please write me into file\n"
     ]
    }
   ],
   "source": [
    "print(s)"
   ]
  },
  {
   "cell_type": "code",
   "execution_count": 30,
   "id": "executed-facing",
   "metadata": {},
   "outputs": [],
   "source": [
    "with open(\"test_file.txt\",\"w\") as f:\n",
    "    f.write(s)"
   ]
  },
  {
   "cell_type": "code",
   "execution_count": 26,
   "id": "favorite-wrong",
   "metadata": {},
   "outputs": [
    {
     "name": "stdout",
     "output_type": "stream",
     "text": [
      "[Errno 2] No such file or directory: 'test_file2.txt'\n",
      "Code run sucessfully\n"
     ]
    }
   ],
   "source": [
    "try:\n",
    "    with open(\"test_file2.txt\",\"r\") as f:\n",
    "        print(f.read())\n",
    "except Exception as e:\n",
    "    print(e)\n",
    "print(\"Code run sucessfully\")"
   ]
  },
  {
   "cell_type": "code",
   "execution_count": 21,
   "id": "adjustable-intent",
   "metadata": {},
   "outputs": [],
   "source": [
    "with open(\"test_file.txt\",\"w\") as f:\n",
    "    pass"
   ]
  },
  {
   "cell_type": "code",
   "execution_count": 25,
   "id": "logical-longitude",
   "metadata": {},
   "outputs": [
    {
     "name": "stdout",
     "output_type": "stream",
     "text": [
      "0\n",
      "1\n",
      "2\n",
      "3\n",
      "4\n",
      "6\n",
      "7\n",
      "8\n",
      "9\n",
      "10\n"
     ]
    }
   ],
   "source": [
    "for i in range(0,11):\n",
    "    if i == 5:\n",
    "        pass\n",
    "    else:\n",
    "        print(i)"
   ]
  },
  {
   "cell_type": "code",
   "execution_count": 35,
   "id": "wound-culture",
   "metadata": {},
   "outputs": [
    {
     "name": "stdout",
     "output_type": "stream",
     "text": [
      "0\n",
      "Please write\n",
      "12\n"
     ]
    }
   ],
   "source": [
    "with open(\"test_file.txt\",\"r\") as f:\n",
    "    print(f.tell()) # Pointer location\n",
    "    print(f.read(12)) # Read whole otherwise read till parameter given\n",
    "    print(f.tell())  "
   ]
  },
  {
   "cell_type": "code",
   "execution_count": 41,
   "id": "coordinate-equivalent",
   "metadata": {},
   "outputs": [
    {
     "name": "stdout",
     "output_type": "stream",
     "text": [
      "0\n",
      "12\n",
      " me into file\n",
      "25\n",
      "0\n",
      "Please write me into file\n"
     ]
    }
   ],
   "source": [
    "with open(\"test_file.txt\",\"r\") as f:\n",
    "    print(f.tell())  \n",
    "    f.seek(12)# Pointer parameter given\n",
    "    print(f.tell())\n",
    "    print(f.read())\n",
    "    print(f.tell())\n",
    "    f.seek(0)\n",
    "    print(f.tell())\n",
    "    print(f.read())"
   ]
  },
  {
   "cell_type": "code",
   "execution_count": 42,
   "id": "distinguished-prediction",
   "metadata": {},
   "outputs": [],
   "source": [
    "s = \"\"\"This is first line\n",
    "This is second line\n",
    "This is third line\"\"\""
   ]
  },
  {
   "cell_type": "code",
   "execution_count": 43,
   "id": "beginning-college",
   "metadata": {},
   "outputs": [
    {
     "name": "stdout",
     "output_type": "stream",
     "text": [
      "This is first line\n",
      "This is second line\n",
      "This is third line\n"
     ]
    }
   ],
   "source": [
    "print(s)"
   ]
  },
  {
   "cell_type": "code",
   "execution_count": 44,
   "id": "funky-investor",
   "metadata": {},
   "outputs": [],
   "source": [
    "with open(\"test_file.txt\",\"w\") as f:\n",
    "    f.write(s)"
   ]
  },
  {
   "cell_type": "code",
   "execution_count": 50,
   "id": "constitutional-episode",
   "metadata": {},
   "outputs": [
    {
     "name": "stdout",
     "output_type": "stream",
     "text": [
      "This is first line\n",
      "\n",
      "This is second line\n",
      "\n",
      "This is third line\n"
     ]
    }
   ],
   "source": [
    "with open(\"test_file.txt\",\"r\") as f:\n",
    "    file_data = f.readlines()\n",
    "    for i in file_data:\n",
    "        print(i)"
   ]
  },
  {
   "cell_type": "code",
   "execution_count": 49,
   "id": "corrected-engineering",
   "metadata": {},
   "outputs": [
    {
     "name": "stdout",
     "output_type": "stream",
     "text": [
      "['This is first line\\n', 'This is second line\\n', 'This is third line']\n"
     ]
    }
   ],
   "source": [
    "print(file_data)"
   ]
  },
  {
   "cell_type": "code",
   "execution_count": 52,
   "id": "charged-lincoln",
   "metadata": {},
   "outputs": [],
   "source": [
    "with open(\"test_file.txt\",\"a\") as f:\n",
    "    f.write(\"\\nThis is new line\")"
   ]
  },
  {
   "cell_type": "markdown",
   "id": "suitable-storage",
   "metadata": {},
   "source": [
    "# Printing Techniques"
   ]
  },
  {
   "cell_type": "code",
   "execution_count": 71,
   "id": "built-combine",
   "metadata": {},
   "outputs": [
    {
     "name": "stdout",
     "output_type": "stream",
     "text": [
      "My name is Rishabh my age is 23 years.\n",
      "My name is Rishabh my age is 23 years.\n",
      "My name is Rishabh and age is 23 years.\n",
      "My name is Rishabh and age is 23 years.\n",
      "My name is Rishabh and age is 23 years.\n"
     ]
    }
   ],
   "source": [
    "name = \"Rishabh\"\n",
    "age = 23\n",
    "\n",
    "print(\"My name is \"+name+\" my age is \"+str(age)+\" years.\")\n",
    "print(\"My name is\",name,\"my age is\",age,\"years.\")\n",
    "print(\"My name is %s and age is %i years.\"%(name,age))\n",
    "print(f\"My name is {name} and age is {age} years.\")\n",
    "print(\"My name is {} and age is {} years.\".format(name,age,))"
   ]
  },
  {
   "cell_type": "markdown",
   "id": "understood-adolescent",
   "metadata": {},
   "source": [
    "# OOPs Concept"
   ]
  },
  {
   "cell_type": "markdown",
   "id": "medium-municipality",
   "metadata": {},
   "source": [
    "- Encapsulation --> Grouping of similar data\n",
    "- Abstraction --> Hinding the complexities\n",
    "- Inheritance --> Helps in reusability of code\n",
    "- Polymorphism --> many form"
   ]
  },
  {
   "cell_type": "markdown",
   "id": "accurate-austria",
   "metadata": {},
   "source": [
    "# Class"
   ]
  },
  {
   "cell_type": "code",
   "execution_count": 73,
   "id": "linear-macintosh",
   "metadata": {},
   "outputs": [],
   "source": [
    "# def --> for function class--> for class"
   ]
  },
  {
   "cell_type": "code",
   "execution_count": 192,
   "id": "descending-workplace",
   "metadata": {},
   "outputs": [],
   "source": [
    "class Employee:\n",
    "    def __init__(chacha, first, last, pay):\n",
    "        chacha.first = first\n",
    "        chacha.last = first\n",
    "        chacha.pay = pay\n",
    "        chacha.email = first + '.' + last + '@codingblocks.com'      "
   ]
  },
  {
   "cell_type": "code",
   "execution_count": 75,
   "id": "active-shepherd",
   "metadata": {},
   "outputs": [],
   "source": [
    "e1 = Employee()\n",
    "e2 = Employee()"
   ]
  },
  {
   "cell_type": "code",
   "execution_count": 76,
   "id": "naughty-brooks",
   "metadata": {},
   "outputs": [
    {
     "name": "stdout",
     "output_type": "stream",
     "text": [
      "<__main__.Employee object at 0x7f891b6c7250>\n",
      "<__main__.Employee object at 0x7f891b6ca950>\n"
     ]
    }
   ],
   "source": [
    "print(e1)\n",
    "print(e2)"
   ]
  },
  {
   "cell_type": "code",
   "execution_count": 77,
   "id": "weekly-nancy",
   "metadata": {},
   "outputs": [],
   "source": [
    "e1.first = \"Rishabh\"\n",
    "e1.last = \"Shekhar\"\n",
    "e1.email = \"rishabh.shekhar@codingblocks.com\"\n",
    "\n",
    "e2.first = \"Aakash\"\n",
    "e2.last = \"Gupta\"\n",
    "e2.email = \"aakash.gupta@codingblocks.com\""
   ]
  },
  {
   "cell_type": "code",
   "execution_count": 78,
   "id": "exterior-advertiser",
   "metadata": {},
   "outputs": [
    {
     "name": "stdout",
     "output_type": "stream",
     "text": [
      "Rishabh\n"
     ]
    }
   ],
   "source": [
    "print(e1.first)"
   ]
  },
  {
   "cell_type": "code",
   "execution_count": 79,
   "id": "floating-clock",
   "metadata": {},
   "outputs": [
    {
     "data": {
      "text/plain": [
       "'rishabh.shekhar@codingblocks.com'"
      ]
     },
     "execution_count": 79,
     "metadata": {},
     "output_type": "execute_result"
    }
   ],
   "source": [
    "e1.email"
   ]
  },
  {
   "cell_type": "code",
   "execution_count": 80,
   "id": "exceptional-neighborhood",
   "metadata": {},
   "outputs": [
    {
     "data": {
      "text/plain": [
       "'Aakash'"
      ]
     },
     "execution_count": 80,
     "metadata": {},
     "output_type": "execute_result"
    }
   ],
   "source": [
    "e2.first "
   ]
  },
  {
   "cell_type": "code",
   "execution_count": 193,
   "id": "accredited-patch",
   "metadata": {},
   "outputs": [],
   "source": [
    "e1 = Employee(\"Rishabh\",\"Shekhar\",10000)\n",
    "e2 = Employee(\"Aakash\",\"Gupta\",20000)"
   ]
  },
  {
   "cell_type": "code",
   "execution_count": 194,
   "id": "broken-hunger",
   "metadata": {},
   "outputs": [
    {
     "data": {
      "text/plain": [
       "'Rishabh'"
      ]
     },
     "execution_count": 194,
     "metadata": {},
     "output_type": "execute_result"
    }
   ],
   "source": [
    "e1.first"
   ]
  },
  {
   "cell_type": "code",
   "execution_count": 92,
   "id": "fatty-signal",
   "metadata": {},
   "outputs": [
    {
     "data": {
      "text/plain": [
       "'Aakash.Gupta@codingblocks.com'"
      ]
     },
     "execution_count": 92,
     "metadata": {},
     "output_type": "execute_result"
    }
   ],
   "source": [
    "e2.email"
   ]
  },
  {
   "cell_type": "code",
   "execution_count": 198,
   "id": "norman-czech",
   "metadata": {},
   "outputs": [],
   "source": [
    "class Employee:\n",
    "    raise_amount = 1.04\n",
    "    def __init__(self, first, last, pay):\n",
    "        self.first = first\n",
    "        self.last = last\n",
    "        self.pay = pay\n",
    "        self.email = first + '.' + last + '@codingblocks.com'\n",
    "    \n",
    "    def fullname(self):\n",
    "        return \"{} {}\".format(self.first, self.last)\n",
    "    \n",
    "    def apply_raise(self):\n",
    "        self.pay = self.pay * self.raise_amount"
   ]
  },
  {
   "cell_type": "code",
   "execution_count": 199,
   "id": "grateful-reception",
   "metadata": {},
   "outputs": [],
   "source": [
    "e1 = Employee(\"Rishabh\",\"Shekhar\",10000)\n",
    "e2 = Employee(\"Aakash\",\"Gupta\",20000)"
   ]
  },
  {
   "cell_type": "code",
   "execution_count": 200,
   "id": "stupid-report",
   "metadata": {},
   "outputs": [
    {
     "data": {
      "text/plain": [
       "'Rishabh Shekhar'"
      ]
     },
     "execution_count": 200,
     "metadata": {},
     "output_type": "execute_result"
    }
   ],
   "source": [
    "e1.fullname()"
   ]
  },
  {
   "cell_type": "code",
   "execution_count": 201,
   "id": "theoretical-representative",
   "metadata": {},
   "outputs": [
    {
     "data": {
      "text/plain": [
       "'Aakash Gupta'"
      ]
     },
     "execution_count": 201,
     "metadata": {},
     "output_type": "execute_result"
    }
   ],
   "source": [
    "Employee.fullname(e2)"
   ]
  },
  {
   "cell_type": "code",
   "execution_count": 202,
   "id": "handmade-mandate",
   "metadata": {},
   "outputs": [],
   "source": [
    "e1.apply_raise()"
   ]
  },
  {
   "cell_type": "code",
   "execution_count": 203,
   "id": "superb-fleece",
   "metadata": {},
   "outputs": [
    {
     "data": {
      "text/plain": [
       "10400.0"
      ]
     },
     "execution_count": 203,
     "metadata": {},
     "output_type": "execute_result"
    }
   ],
   "source": [
    "e1.pay\n"
   ]
  },
  {
   "cell_type": "code",
   "execution_count": 204,
   "id": "fancy-hebrew",
   "metadata": {},
   "outputs": [
    {
     "data": {
      "text/plain": [
       "20000"
      ]
     },
     "execution_count": 204,
     "metadata": {},
     "output_type": "execute_result"
    }
   ],
   "source": [
    "e2.pay"
   ]
  },
  {
   "cell_type": "code",
   "execution_count": 205,
   "id": "anonymous-teens",
   "metadata": {},
   "outputs": [],
   "source": [
    "e2.apply_raise()"
   ]
  },
  {
   "cell_type": "code",
   "execution_count": 206,
   "id": "labeled-magic",
   "metadata": {},
   "outputs": [
    {
     "data": {
      "text/plain": [
       "20800.0"
      ]
     },
     "execution_count": 206,
     "metadata": {},
     "output_type": "execute_result"
    }
   ],
   "source": [
    "e2.pay"
   ]
  },
  {
   "cell_type": "code",
   "execution_count": 207,
   "id": "statutory-differential",
   "metadata": {},
   "outputs": [
    {
     "data": {
      "text/plain": [
       "1.04"
      ]
     },
     "execution_count": 207,
     "metadata": {},
     "output_type": "execute_result"
    }
   ],
   "source": [
    "e1.raise_amount"
   ]
  },
  {
   "cell_type": "code",
   "execution_count": 208,
   "id": "excess-wilderness",
   "metadata": {},
   "outputs": [
    {
     "name": "stdout",
     "output_type": "stream",
     "text": [
      "1.04\n",
      "1.04\n",
      "1.04\n"
     ]
    }
   ],
   "source": [
    "# namespace\n",
    "print(e1.raise_amount)\n",
    "print(e2.raise_amount)\n",
    "print(Employee.raise_amount)"
   ]
  },
  {
   "cell_type": "code",
   "execution_count": 209,
   "id": "mental-louis",
   "metadata": {},
   "outputs": [
    {
     "name": "stdout",
     "output_type": "stream",
     "text": [
      "{'first': 'Rishabh', 'last': 'Shekhar', 'pay': 10400.0, 'email': 'Rishabh.Shekhar@codingblocks.com'}\n"
     ]
    }
   ],
   "source": [
    "print(e1.__dict__)"
   ]
  },
  {
   "cell_type": "code",
   "execution_count": 210,
   "id": "outdoor-western",
   "metadata": {},
   "outputs": [
    {
     "name": "stdout",
     "output_type": "stream",
     "text": [
      "{'first': 'Aakash', 'last': 'Gupta', 'pay': 20800.0, 'email': 'Aakash.Gupta@codingblocks.com'}\n"
     ]
    }
   ],
   "source": [
    "print(e2.__dict__)"
   ]
  },
  {
   "cell_type": "code",
   "execution_count": 211,
   "id": "complimentary-province",
   "metadata": {},
   "outputs": [
    {
     "name": "stdout",
     "output_type": "stream",
     "text": [
      "{'__module__': '__main__', 'raise_amount': 1.04, '__init__': <function Employee.__init__ at 0x7f891c7f89e0>, 'fullname': <function Employee.fullname at 0x7f891c7f87a0>, 'apply_raise': <function Employee.apply_raise at 0x7f891c831200>, '__dict__': <attribute '__dict__' of 'Employee' objects>, '__weakref__': <attribute '__weakref__' of 'Employee' objects>, '__doc__': None}\n"
     ]
    }
   ],
   "source": [
    "print(Employee.__dict__)"
   ]
  },
  {
   "cell_type": "code",
   "execution_count": 212,
   "id": "falling-honey",
   "metadata": {},
   "outputs": [],
   "source": [
    "e1.raise_amount = 1.10"
   ]
  },
  {
   "cell_type": "code",
   "execution_count": 213,
   "id": "satellite-reverse",
   "metadata": {},
   "outputs": [
    {
     "name": "stdout",
     "output_type": "stream",
     "text": [
      "1.1\n",
      "1.04\n",
      "1.04\n"
     ]
    }
   ],
   "source": [
    "print(e1.raise_amount)\n",
    "print(e2.raise_amount)\n",
    "print(Employee.raise_amount)"
   ]
  },
  {
   "cell_type": "code",
   "execution_count": 214,
   "id": "smoking-hearts",
   "metadata": {},
   "outputs": [
    {
     "name": "stdout",
     "output_type": "stream",
     "text": [
      "{'first': 'Rishabh', 'last': 'Shekhar', 'pay': 10400.0, 'email': 'Rishabh.Shekhar@codingblocks.com', 'raise_amount': 1.1}\n"
     ]
    }
   ],
   "source": [
    "print(e1.__dict__)"
   ]
  },
  {
   "cell_type": "code",
   "execution_count": 215,
   "id": "incident-rapid",
   "metadata": {},
   "outputs": [],
   "source": [
    "Employee.raise_amount = 1.02\n"
   ]
  },
  {
   "cell_type": "code",
   "execution_count": 216,
   "id": "static-saver",
   "metadata": {},
   "outputs": [
    {
     "name": "stdout",
     "output_type": "stream",
     "text": [
      "1.1\n",
      "1.02\n",
      "1.02\n"
     ]
    }
   ],
   "source": [
    "print(e1.raise_amount)\n",
    "print(e2.raise_amount)\n",
    "print(Employee.raise_amount)"
   ]
  },
  {
   "cell_type": "code",
   "execution_count": 217,
   "id": "compliant-prompt",
   "metadata": {},
   "outputs": [
    {
     "name": "stdout",
     "output_type": "stream",
     "text": [
      "{'first': 'Rishabh', 'last': 'Shekhar', 'pay': 10400.0, 'email': 'Rishabh.Shekhar@codingblocks.com', 'raise_amount': 1.1}\n",
      "{'first': 'Aakash', 'last': 'Gupta', 'pay': 20800.0, 'email': 'Aakash.Gupta@codingblocks.com'}\n"
     ]
    }
   ],
   "source": [
    "print(e1.__dict__)\n",
    "print(e2.__dict__)"
   ]
  },
  {
   "cell_type": "code",
   "execution_count": 218,
   "id": "excessive-spoke",
   "metadata": {},
   "outputs": [
    {
     "data": {
      "text/plain": [
       "10400.0"
      ]
     },
     "execution_count": 218,
     "metadata": {},
     "output_type": "execute_result"
    }
   ],
   "source": [
    "e1.pay"
   ]
  },
  {
   "cell_type": "code",
   "execution_count": 219,
   "id": "subjective-repository",
   "metadata": {},
   "outputs": [],
   "source": [
    "e1.apply_raise()"
   ]
  },
  {
   "cell_type": "code",
   "execution_count": 220,
   "id": "junior-socket",
   "metadata": {},
   "outputs": [
    {
     "data": {
      "text/plain": [
       "11440.000000000002"
      ]
     },
     "execution_count": 220,
     "metadata": {},
     "output_type": "execute_result"
    }
   ],
   "source": [
    "e1.pay"
   ]
  },
  {
   "cell_type": "code",
   "execution_count": 221,
   "id": "capital-thanks",
   "metadata": {},
   "outputs": [
    {
     "data": {
      "text/plain": [
       "10608.0"
      ]
     },
     "execution_count": 221,
     "metadata": {},
     "output_type": "execute_result"
    }
   ],
   "source": [
    "10400 * 1.02"
   ]
  },
  {
   "cell_type": "code",
   "execution_count": 222,
   "id": "shared-jewelry",
   "metadata": {},
   "outputs": [
    {
     "data": {
      "text/plain": [
       "int"
      ]
     },
     "execution_count": 222,
     "metadata": {},
     "output_type": "execute_result"
    }
   ],
   "source": [
    "a = 10\n",
    "type(a)"
   ]
  },
  {
   "cell_type": "code",
   "execution_count": 227,
   "id": "discrete-bleeding",
   "metadata": {},
   "outputs": [
    {
     "data": {
      "text/plain": [
       "type"
      ]
     },
     "execution_count": 227,
     "metadata": {},
     "output_type": "execute_result"
    }
   ],
   "source": [
    "ghj = type\n",
    "ghj(a)"
   ]
  },
  {
   "cell_type": "code",
   "execution_count": 229,
   "id": "conventional-lawyer",
   "metadata": {},
   "outputs": [
    {
     "data": {
      "text/plain": [
       "'Rishabh Shekhar'"
      ]
     },
     "execution_count": 229,
     "metadata": {},
     "output_type": "execute_result"
    }
   ],
   "source": [
    "yht = e1\n",
    "yht.fullname()"
   ]
  },
  {
   "cell_type": "code",
   "execution_count": 230,
   "id": "freelance-italian",
   "metadata": {},
   "outputs": [
    {
     "data": {
      "text/plain": [
       "4"
      ]
     },
     "execution_count": 230,
     "metadata": {},
     "output_type": "execute_result"
    }
   ],
   "source": [
    "rishabh = int\n",
    "rishabh(4.9)\n",
    "int(4.9)"
   ]
  },
  {
   "cell_type": "code",
   "execution_count": 225,
   "id": "musical-entertainment",
   "metadata": {},
   "outputs": [
    {
     "data": {
      "text/plain": [
       "4"
      ]
     },
     "execution_count": 225,
     "metadata": {},
     "output_type": "execute_result"
    }
   ],
   "source": [
    "int(4.9)"
   ]
  },
  {
   "cell_type": "code",
   "execution_count": null,
   "id": "federal-walnut",
   "metadata": {},
   "outputs": [],
   "source": []
  },
  {
   "cell_type": "code",
   "execution_count": null,
   "id": "subject-patio",
   "metadata": {},
   "outputs": [],
   "source": []
  },
  {
   "cell_type": "code",
   "execution_count": null,
   "id": "numerical-formula",
   "metadata": {},
   "outputs": [],
   "source": []
  }
 ],
 "metadata": {
  "kernelspec": {
   "display_name": "Python 3",
   "language": "python",
   "name": "python3"
  },
  "language_info": {
   "codemirror_mode": {
    "name": "ipython",
    "version": 3
   },
   "file_extension": ".py",
   "mimetype": "text/x-python",
   "name": "python",
   "nbconvert_exporter": "python",
   "pygments_lexer": "ipython3",
   "version": "3.7.4"
  }
 },
 "nbformat": 4,
 "nbformat_minor": 5
}
